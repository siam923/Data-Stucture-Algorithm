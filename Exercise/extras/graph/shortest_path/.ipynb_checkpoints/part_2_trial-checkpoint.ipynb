{
 "cells": [
  {
   "cell_type": "markdown",
   "metadata": {},
   "source": [
    "## Shortest Path implementation \n",
    "\n",
    "Algorithm:\n",
    "<img src='alg.png' />\n",
    "\n",
    "\n"
   ]
  },
  {
   "cell_type": "markdown",
   "metadata": {},
   "source": [
    "## Graph Representation\n",
    "The following code will build an weighted graph with adjacency list representation. "
   ]
  },
  {
   "cell_type": "code",
   "execution_count": 4,
   "metadata": {},
   "outputs": [],
   "source": [
    "class GraphEdge(object):\n",
    "    def __init__(self, node, distance):\n",
    "        self.node = node\n",
    "        self.distance = distance\n",
    "\n",
    "class GraphNode(object):\n",
    "    def __init__(self, val):\n",
    "        self.value = val\n",
    "        self.edges = []\n",
    "\n",
    "    def add_child(self, node, distance):\n",
    "        self.edges.append(GraphEdge(node, distance))\n",
    "\n",
    "    def remove_child(self, del_node):\n",
    "        if del_node in self.edges:\n",
    "            self.edges.remove(del_node)\n",
    "    \n",
    "    def __str__(self):\n",
    "        return self.value\n",
    "            \n",
    "\n",
    "class Graph(object):\n",
    "    def __init__(self, node_list):\n",
    "        self.nodes = node_list\n",
    "\n",
    "    def add_edge(self, node1, node2, distance):\n",
    "        if node1 in self.nodes and node2 in self.nodes:\n",
    "            node1.add_child(node2, distance)\n",
    "            node2.add_child(node1, distance)\n",
    "\n",
    "    def remove_edge(self, node1, node2):\n",
    "        if node1 in self.nodes and node2 in self.nodes:\n",
    "            node1.remove_child(node2)\n",
    "            node2.remove_child(node1)"
   ]
  },
  {
   "cell_type": "markdown",
   "metadata": {},
   "source": [
    "## Building the graph:\n",
    "**Note**: I am making the graph undirected\n",
    "<img src='graph.jpg' width=80%/>"
   ]
  },
  {
   "cell_type": "code",
   "execution_count": 5,
   "metadata": {},
   "outputs": [],
   "source": [
    "uttara = GraphNode('Uttara')\n",
    "mirpur = GraphNode('Mirpur')\n",
    "nsu = GraphNode('NSU')\n",
    "bonosri = GraphNode('Bonosri')\n",
    "banani = GraphNode('Banani')\n",
    "farmgate = GraphNode('Farmgate')\n",
    "motejheel = GraphNode('Motejheel')\n",
    "\n",
    "\n",
    "graph = Graph([uttara, mirpur, nsu, bonosri, banani, farmgate, motejheel])\n",
    "\n",
    "graph.add_edge(uttara, mirpur, 7)\n",
    "graph.add_edge(uttara, nsu, 6)\n",
    "graph.add_edge(uttara, banani, 7)\n",
    "graph.add_edge(mirpur, nsu, 4)\n",
    "graph.add_edge(mirpur, farmgate, 5)\n",
    "graph.add_edge(banani, farmgate, 5)\n",
    "graph.add_edge(farmgate, motejheel, 8)\n",
    "graph.add_edge(nsu, banani, 3)\n",
    "graph.add_edge(nsu, bonosri, 3)\n",
    "graph.add_edge(bonosri, motejheel, 4)\n",
    "\n",
    "# Since undirected\n",
    "graph.add_edge(mirpur, uttara, 7)\n",
    "graph.add_edge(nsu, uttara, 6)\n",
    "graph.add_edge(banani, uttara, 7)\n",
    "graph.add_edge(nsu, mirpur, 4)\n",
    "graph.add_edge(farmgate, mirpur, 5)\n",
    "graph.add_edge(farmgate, banani, 5)\n",
    "graph.add_edge(motejheel, farmgate, 8)\n",
    "graph.add_edge(banani, nsu, 3)\n",
    "graph.add_edge(bonosri, nsu, 3)\n",
    "graph.add_edge(motejheel, bonosri, 4)"
   ]
  },
  {
   "cell_type": "code",
   "execution_count": 6,
   "metadata": {},
   "outputs": [
    {
     "data": {
      "text/plain": [
       "[<__main__.GraphEdge at 0x2116f647358>,\n",
       " <__main__.GraphEdge at 0x2116f6473c8>,\n",
       " <__main__.GraphEdge at 0x2116f674780>,\n",
       " <__main__.GraphEdge at 0x2116f674ac8>,\n",
       " <__main__.GraphEdge at 0x2116f674b38>,\n",
       " <__main__.GraphEdge at 0x2116f674ba8>]"
      ]
     },
     "execution_count": 6,
     "metadata": {},
     "output_type": "execute_result"
    }
   ],
   "source": [
    "uttara.edges"
   ]
  },
  {
   "cell_type": "markdown",
   "metadata": {},
   "source": [
    "## Dijkstra Implementation"
   ]
  },
  {
   "cell_type": "code",
   "execution_count": 31,
   "metadata": {},
   "outputs": [],
   "source": [
    "import math\n",
    "\n",
    "def dijkstra(start_node, end_node):\n",
    "    distance_dict = {node: math.inf for node in graph.nodes} \n",
    "    shortest_path_to_node = {} # shortest distance of from source to dest. eg. {node_1:3, node_2:5...}\n",
    "    parent_node = {}\n",
    "    \n",
    "    \n",
    "    distance_dict[start_node] = 0\n",
    "    parent_node[start_node] = None\n",
    "    \n",
    "    while distance_dict:\n",
    "        # Pop the shorest path \n",
    "        current_node, node_distance = sorted(distance_dict.items(), key=lambda x: x[1])[0]\n",
    "        shortest_path_to_node[current_node] = distance_dict.pop(current_node) # extractmin\n",
    "        #print(current_node.value, shortest_path_to_node[current_node])\n",
    "\n",
    "        for edge in current_node.edges:\n",
    "            if edge.node in distance_dict:\n",
    "                new_node_distance = node_distance + edge.distance\n",
    "                if distance_dict[edge.node] > new_node_distance:\n",
    "                    distance_dict[edge.node] = new_node_distance\n",
    "                    parent_node[edge.node] = current_node\n",
    "    \n",
    "    \n",
    "    return shortest_path_to_node, parent_node\n"
   ]
  },
  {
   "cell_type": "markdown",
   "metadata": {},
   "source": [
    "## Finding the route "
   ]
  },
  {
   "cell_type": "code",
   "execution_count": 36,
   "metadata": {},
   "outputs": [
    {
     "name": "stdout",
     "output_type": "stream",
     "text": [
      "Shortest Distance from Uttara to Motejheel is 13\n",
      "\n",
      "Route: \n",
      "Motejheel --4--> Bonosri --3--> NSU --6--> Uttara\n"
     ]
    }
   ],
   "source": [
    "s_dist, parent_node =  dijkstra(uttara, motejheel)\n",
    "print('Shortest Distance from {} to {} is {}'.format(uttara.value, motejheel.value, s_dist[motejheel]))\n",
    "\n",
    "route = []\n",
    "# Currentnode initially the dest node\n",
    "\n",
    "current = motejheel\n",
    "while current:\n",
    "    route.insert(0, current)\n",
    "    current = parent_node[current]\n",
    "\n",
    "print(\"\\nRoute: \")\n",
    "for i in range(len(route)-1,0, -1):\n",
    "    node_1 = route[i]\n",
    "    node_2 = route[i-1]\n",
    "    dist = s_dist[node_2] - s_dist[node_1]\n",
    "    print(f\"{node_1.value} -{dist}--> \", end=\"\")\n",
    "print(uttara.value)"
   ]
  }
 ],
 "metadata": {
  "kernelspec": {
   "display_name": "Python 3",
   "language": "python",
   "name": "python3"
  },
  "language_info": {
   "codemirror_mode": {
    "name": "ipython",
    "version": 3
   },
   "file_extension": ".py",
   "mimetype": "text/x-python",
   "name": "python",
   "nbconvert_exporter": "python",
   "pygments_lexer": "ipython3",
   "version": "3.7.1"
  }
 },
 "nbformat": 4,
 "nbformat_minor": 2
}
