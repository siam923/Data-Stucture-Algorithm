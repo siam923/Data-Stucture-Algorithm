{
 "cells": [
  {
   "attachments": {},
   "cell_type": "markdown",
   "metadata": {},
   "source": [
    "## Matrix Chain Problem & Parenthesization \n",
    "\n",
    "#### Variables used in the code:\n",
    "- __m__ - will hold minimum number of multiplication needed for each subproblem | Type-2D List\n",
    "- __p__ - dimension of matrix | Type-1D list\n",
    "\n",
    ">__Example__:\n",
    "For 3 matrices **A, B, C** of size **(2X3), (3X4), (4X2)** we will have the following array of dimensions:\n",
    "* `p = [2,3,4,2]` i.e for 3 matrices we have array p 0f length 3+1=4.\n",
    "\n",
    ">Therefore number of matrices, `n = len(p)-1`\n",
    "\n",
    "#### Recursive formula:\n",
    "\n",
    "$$ m[i,j] =  \\min_{i<=k<j} (m[i,k] + m[k+1,j] + p_{i-1} p_k p_j)$$\n",
    "\n",
    "* The k value for generating perenthesize will be stored in m[j,i] position\n",
    "\n",
    "#### Steps:\n",
    "We will approach the problem in the following order:\n",
    "<img src='mat_mul_ims/1.jpg' width=30% />\n",
    "\n",
    "**Example**:\n",
    "Let us consider 4 matrices $A_1 A_2 A_3 A_4$ of size **3X2,  2X4, 4X2, 2X5** respectively. We will use the above mentioned formula to calculate the minimum cost of matrix multiplication for each sub problems. Bellow are some pictures for visualization:\n",
    "\n",
    "<img src='mat_mul_ims/2.jpg' width=30% />\n",
    "\n",
    "<img src='mat_mul_ims/3.jpg' width=30% />\n",
    "\n",
    "<img src='mat_mul_ims/4.jpg' width=30% />\n",
    "\n",
    "<img src='mat_mul_ims/5.jpg' width=30% />\n",
    "\n",
    "### Implementation"
   ]
  },
  {
   "cell_type": "code",
   "execution_count": 35,
   "metadata": {},
   "outputs": [
    {
     "name": "stdout",
     "output_type": "stream",
     "text": [
      "minimum number of multiplications: 56\n"
     ]
    }
   ],
   "source": [
    "def matrix_chain(p):\n",
    "    n = len(p)-1\n",
    "    m = [[None for _ in range(n)] for _ in range(n)]\n",
    "    \n",
    "    def lookup_chain(p, i, j):\n",
    "        if m[i][j]:\n",
    "            return m[i][j]\n",
    "        if i==j:\n",
    "            m[i][j] = 0\n",
    "        else:\n",
    "            for k in range(i,j):\n",
    "                q = lookup_chain(p, i, k) + lookup_chain(p, k+1, j) + p[i-1]*p[k]*p[j]\n",
    "                if not m[i][j]:\n",
    "                    m[i][j] = q\n",
    "        return m[i][j]\n",
    "        \n",
    "    lookup_chain(p, 0, n-1)\n",
    "    return m[0][n-1]\n",
    "\n",
    "print('minimum number of multiplications:',matrix_chain([2,2,4,5]))"
   ]
  },
  {
   "cell_type": "code",
   "execution_count": null,
   "metadata": {},
   "outputs": [],
   "source": []
  }
 ],
 "metadata": {
  "kernelspec": {
   "display_name": "Python 3",
   "language": "python",
   "name": "python3"
  },
  "language_info": {
   "codemirror_mode": {
    "name": "ipython",
    "version": 3
   },
   "file_extension": ".py",
   "mimetype": "text/x-python",
   "name": "python",
   "nbconvert_exporter": "python",
   "pygments_lexer": "ipython3",
   "version": "3.7.1"
  }
 },
 "nbformat": 4,
 "nbformat_minor": 2
}
