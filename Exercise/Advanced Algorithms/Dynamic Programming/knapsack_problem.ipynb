{
 "cells": [
  {
   "cell_type": "markdown",
   "metadata": {
    "graffitiCellId": "id_afkw8pd"
   },
   "source": [
    "# Knapsack Problem\n",
    "Now that you saw the dynamic programming solution for the knapsack problem, it's time to implement it. Implement the function `max_value` to return the maximum value given the items (`items`) and the maximum weight of the knapsack (`knapsack_max_weight`). The `items` variable is the type `Item`, which is a [named tuple](https://docs.python.org/3/library/collections.html#collections.namedtuple)."
   ]
  },
  {
   "cell_type": "code",
   "execution_count": 3,
   "metadata": {},
   "outputs": [],
   "source": [
    "import collections\n",
    "\n",
    "Item = collections.namedtuple('Item', ['weight', 'value'])\n"
   ]
  },
  {
   "cell_type": "code",
   "execution_count": 9,
   "metadata": {},
   "outputs": [
    {
     "name": "stdout",
     "output_type": "stream",
     "text": [
      "4\n"
     ]
    },
    {
     "data": {
      "text/plain": [
       "[[0, 0], [0, 0], [0, 0]]"
      ]
     },
     "execution_count": 9,
     "metadata": {},
     "output_type": "execute_result"
    }
   ],
   "source": [
    "## Practice \n",
    "eg_item = Item(4, 20)\n",
    "print(eg_item.weight)\n",
    "li = [[0 for _ in range(2)] for _ in range(3)]\n",
    "li"
   ]
  },
  {
   "cell_type": "code",
   "execution_count": 13,
   "metadata": {},
   "outputs": [
    {
     "name": "stdout",
     "output_type": "stream",
     "text": [
      "13\n"
     ]
    }
   ],
   "source": [
    "## Recursive running time: 2^n\n",
    "\n",
    "def max_value_recursive(knapsack_max_weight, items):\n",
    "    n = len(items)\n",
    "    result = 0\n",
    "    if knapsack_max_weight==0 or n==0:\n",
    "        result = 0\n",
    "    elif knapsack_max_weight < items[n-1].weight:\n",
    "        result = max_value_recursive(knapsack_max_weight, items[0:n-1])\n",
    "    else:\n",
    "        # Case1: don't take the item\n",
    "        temp1 = max_value_recursive(knapsack_max_weight, items[0:n-1])\n",
    "        # Case2: take the item\n",
    "        temp2 = items[n-1].value + max_value_recursive(knapsack_max_weight-items[n-1].weight, items[0:n-1])\n",
    "        result = max(temp1, temp2)\n",
    "    return result\n",
    "\n",
    "\n",
    "our_items = [Item(10, 2), Item(29, 10), Item(5, 7), Item(5, 3), Item(5, 1), Item(24, 12)]\n",
    "capacity = 25\n",
    "print(max_value_recursive(capacity, our_items))\n",
    "\n",
    "\n"
   ]
  },
  {
   "cell_type": "code",
   "execution_count": 11,
   "metadata": {
    "graffitiCellId": "id_p48fhwc"
   },
   "outputs": [],
   "source": [
    "\n",
    "\n",
    "def max_value(knapsack_max_weight, items):\n",
    "    \"\"\"\n",
    "    Get the maximum value of the knapsack.\n",
    "    \"\"\"\n",
    "    n = len(items)\n",
    "    arr = [[None for _ in range(knapsack_max_weight+1)] for _ in range(n)]\n",
    "    return max_value_helper(arr, knapsack_max_weight, items)\n",
    "\n",
    "\n",
    "def max_value_helper(arr, knapsack_max_weight, items):\n",
    "    n = len(items)\n",
    "    if arr[n-1][knapsack_max_weight]:\n",
    "        return arr[n-1][knapsack_max_weight]\n",
    "    \n",
    "    result = 0\n",
    "    if knapsack_max_weight==0 or n==0:\n",
    "        result = 0\n",
    "    elif knapsack_max_weight < items[n-1].weight:\n",
    "        result = max_value_helper(arr, knapsack_max_weight, items[0:n-1])\n",
    "    else:\n",
    "        # Case1: don't take the item\n",
    "        temp1 = max_value_helper(arr, knapsack_max_weight, items[0:n-1])\n",
    "        # Case2: take the item\n",
    "        temp2 = items[n-1].value + max_value_helper(arr, knapsack_max_weight-items[n-1].weight, items[0:n-1])\n",
    "        result = max(temp1, temp2)\n",
    "        \n",
    "    arr[n-1][knapsack_max_weight] = result\n",
    "    return result\n",
    "\n",
    "\n",
    "tests = [\n",
    "    {\n",
    "        'correct_output': 14,\n",
    "        'input':\n",
    "            {\n",
    "                'knapsack_max_weight': 15,\n",
    "                'items': [Item(10, 7), Item(9, 8), Item(5, 6)]}},\n",
    "    {\n",
    "        'correct_output': 13,\n",
    "        'input':\n",
    "            {\n",
    "                'knapsack_max_weight': 25,\n",
    "                'items': [Item(10, 2), Item(29, 10), Item(5, 7), Item(5, 3), Item(5, 1), Item(24, 12)]}}]\n",
    "for test in tests:\n",
    "    assert test['correct_output'] == max_value(**test['input'])"
   ]
  },
  {
   "cell_type": "code",
   "execution_count": null,
   "metadata": {
    "graffitiCellId": "id_vljhmf7"
   },
   "outputs": [],
   "source": [
    "def max_value(knapsack_max_weight, items):\n",
    "    lookup_table = [0] * (knapsack_max_weight + 1)\n",
    "\n",
    "    for item in items:\n",
    "        for capacity in reversed(range(knapsack_max_weight + 1)):\n",
    "            if item.weight <= capacity:\n",
    "                lookup_table[capacity] = max(lookup_table[capacity], lookup_table[capacity - item.weight] + item.value)\n",
    "\n",
    "    return lookup_table[-1]"
   ]
  },
  {
   "cell_type": "markdown",
   "metadata": {
    "graffitiCellId": "id_sczu399"
   },
   "source": [
    "<span class=\"graffiti-highlight graffiti-id_sczu399-id_vljhmf7\"><i></i><button>Show Solution</button></span>"
   ]
  }
 ],
 "metadata": {
  "graffiti": {
   "firstAuthorId": "dev",
   "id": "id_c8cwdgc",
   "language": "EN"
  },
  "kernelspec": {
   "display_name": "Python 3",
   "language": "python",
   "name": "python3"
  },
  "language_info": {
   "codemirror_mode": {
    "name": "ipython",
    "version": 3
   },
   "file_extension": ".py",
   "mimetype": "text/x-python",
   "name": "python",
   "nbconvert_exporter": "python",
   "pygments_lexer": "ipython3",
   "version": "3.7.1"
  }
 },
 "nbformat": 4,
 "nbformat_minor": 2
}
