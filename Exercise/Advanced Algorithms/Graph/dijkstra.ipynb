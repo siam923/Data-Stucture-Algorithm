{
 "cells": [
  {
   "cell_type": "markdown",
   "metadata": {
    "graffitiCellId": "id_0ojz955"
   },
   "source": [
    "# Dijkstra's Algorithm\n",
    "In this exercise, you'll implement Dijkstra's algorithm. First, let's build the graph.\n",
    "## Graph Representation\n",
    "In order to run Dijkstra's Algorithm, we'll need to add distance to each edge. We'll use the `GraphEdge` class below to represent each edge between a node."
   ]
  },
  {
   "cell_type": "code",
   "execution_count": 12,
   "metadata": {
    "graffitiCellId": "id_popacit"
   },
   "outputs": [],
   "source": [
    "class GraphEdge(object):\n",
    "    def __init__(self, node, distance):\n",
    "        self.node = node\n",
    "        self.distance = distance"
   ]
  },
  {
   "cell_type": "markdown",
   "metadata": {
    "graffitiCellId": "id_ljgv5p0"
   },
   "source": [
    "The new graph representation should look like this:"
   ]
  },
  {
   "cell_type": "code",
   "execution_count": 13,
   "metadata": {
    "graffitiCellId": "id_llarxxs"
   },
   "outputs": [],
   "source": [
    "class GraphNode(object):\n",
    "    def __init__(self, val):\n",
    "        self.value = val\n",
    "        self.edges = []\n",
    "\n",
    "    def add_child(self, node, distance):\n",
    "        self.edges.append(GraphEdge(node, distance))\n",
    "\n",
    "    def remove_child(self, del_node):\n",
    "        if del_node in self.edges:\n",
    "            self.edges.remove(del_node)\n",
    "\n",
    "class Graph(object):\n",
    "    def __init__(self, node_list):\n",
    "        self.nodes = node_list\n",
    "\n",
    "    def add_edge(self, node1, node2, distance):\n",
    "        if node1 in self.nodes and node2 in self.nodes:\n",
    "            node1.add_child(node2, distance)\n",
    "            node2.add_child(node1, distance)\n",
    "\n",
    "    def remove_edge(self, node1, node2):\n",
    "        if node1 in self.nodes and node2 in self.nodes:\n",
    "            node1.remove_child(node2)\n",
    "            node2.remove_child(node1)"
   ]
  },
  {
   "cell_type": "markdown",
   "metadata": {
    "graffitiCellId": "id_2m0r1p6"
   },
   "source": [
    "Now let's create the graph."
   ]
  },
  {
   "cell_type": "code",
   "execution_count": 14,
   "metadata": {
    "graffitiCellId": "id_9zgbdrn"
   },
   "outputs": [],
   "source": [
    "node_u = GraphNode('U')\n",
    "node_d = GraphNode('D')\n",
    "node_a = GraphNode('A')\n",
    "node_c = GraphNode('C')\n",
    "node_i = GraphNode('I')\n",
    "node_t = GraphNode('T')\n",
    "node_y = GraphNode('Y')\n",
    "\n",
    "graph = Graph([node_u, node_d, node_a, node_c, node_i, node_t, node_y])\n",
    "graph.add_edge(node_u, node_a, 4)\n",
    "graph.add_edge(node_u, node_c, 6)\n",
    "graph.add_edge(node_u, node_d, 3)\n",
    "graph.add_edge(node_d, node_u, 3)\n",
    "graph.add_edge(node_d, node_c, 4)\n",
    "graph.add_edge(node_a, node_u, 4)\n",
    "graph.add_edge(node_a, node_i, 7)\n",
    "graph.add_edge(node_c, node_d, 4)\n",
    "graph.add_edge(node_c, node_u, 6)\n",
    "graph.add_edge(node_c, node_i, 4)\n",
    "graph.add_edge(node_c, node_t, 5)\n",
    "graph.add_edge(node_i, node_a, 7)\n",
    "graph.add_edge(node_i, node_c, 4)\n",
    "graph.add_edge(node_i, node_y, 4)\n",
    "graph.add_edge(node_t, node_c, 5)\n",
    "graph.add_edge(node_t, node_y, 5)\n",
    "graph.add_edge(node_y, node_i, 4)\n",
    "graph.add_edge(node_y, node_t, 5)"
   ]
  },
  {
   "cell_type": "code",
   "execution_count": 16,
   "metadata": {},
   "outputs": [
    {
     "name": "stdout",
     "output_type": "stream",
     "text": [
      "A\n",
      "U\n",
      "D\n",
      "I\n",
      "C\n",
      "Y\n",
      "T\n",
      "Shortest Distance from A to U is 4\n"
     ]
    }
   ],
   "source": [
    "node_u = GraphNode('U')\n",
    "node_d = GraphNode('D')\n",
    "node_a = GraphNode('A')\n",
    "node_c = GraphNode('C')\n",
    "node_i = GraphNode('I')\n",
    "node_t = GraphNode('T')\n",
    "node_y = GraphNode('Y')\n",
    "\n",
    "graph = Graph([node_u, node_d, node_a, node_c, node_i, node_t, node_y])\n",
    "graph.add_edge(node_u, node_a, 4)\n",
    "graph.add_edge(node_u, node_c, 6)\n",
    "graph.add_edge(node_u, node_d, 3)\n",
    "graph.add_edge(node_d, node_u, 3)\n",
    "graph.add_edge(node_d, node_c, 4)\n",
    "\n",
    "graph.add_edge(node_a, node_i, 7)\n",
    "graph.add_edge(node_c, node_d, 4)\n",
    "graph.add_edge(node_c, node_u, 6)\n",
    "graph.add_edge(node_c, node_i, 4)\n",
    "graph.add_edge(node_c, node_t, 5)\n",
    "graph.add_edge(node_i, node_a, 7)\n",
    "graph.add_edge(node_i, node_c, 4)\n",
    "graph.add_edge(node_i, node_y, 4)\n",
    "graph.add_edge(node_t, node_c, 5)\n",
    "graph.add_edge(node_t, node_y, 5)\n",
    "graph.add_edge(node_y, node_i, 4)\n",
    "graph.add_edge(node_y, node_t, 5)\n",
    "\n",
    "print('Shortest Distance from {} to {} is {}'.format(node_a.value, node_u.value, dijkstra(node_a, node_u)))"
   ]
  },
  {
   "cell_type": "markdown",
   "metadata": {
    "graffitiCellId": "id_v79ttrc"
   },
   "source": [
    "## Implementation\n",
    "Using what you've learned, implement Dijkstra's Algorithm to find the shortest distance from the \"U\" node to the \"Y\" node. "
   ]
  },
  {
   "cell_type": "code",
   "execution_count": 28,
   "metadata": {
    "graffitiCellId": "id_zx9fvl9"
   },
   "outputs": [
    {
     "name": "stdout",
     "output_type": "stream",
     "text": [
      "U 0\n",
      "D 3\n",
      "A 4\n",
      "C 6\n",
      "I 10\n",
      "T 11\n",
      "Y 14\n",
      "Shortest Distance from U to Y is 14\n"
     ]
    }
   ],
   "source": [
    "import math\n",
    "\n",
    "def dijkstra(start_node, end_node):\n",
    "    distance_dict = {node: math.inf for node in graph.nodes} \n",
    "    shortest_path_to_node = {} # shortest distance of from source to dest. eg. {node_1:3, node_2:5...}\n",
    "    parent_node = {}\n",
    "    \n",
    "    \n",
    "    distance_dict[start_node] = 0\n",
    "    parent_node[start_node] = None\n",
    "    \n",
    "    while distance_dict:\n",
    "        # Pop the shorest path \n",
    "        current_node, node_distance = sorted(distance_dict.items(), key=lambda x: x[1])[0]\n",
    "        shortest_path_to_node[current_node] = distance_dict.pop(current_node) # extractmin\n",
    "        print(current_node.value, shortest_path_to_node[current_node])\n",
    "\n",
    "        for edge in current_node.edges:\n",
    "            if edge.node in distance_dict:\n",
    "                new_node_distance = node_distance + edge.distance\n",
    "                if distance_dict[edge.node] > new_node_distance:\n",
    "                    distance_dict[edge.node] = new_node_distance\n",
    "                    parent_node[edge.node] = current_node\n",
    "    \n",
    "    \n",
    "    return shortest_path_to_node[end_node], parent_node\n",
    "\n",
    "\n",
    "print('Shortest Distance from {} to {} is {}'.format(node_u.value, node_y.value, dijkstra(node_u, node_y)[0]))"
   ]
  },
  {
   "cell_type": "code",
   "execution_count": 27,
   "metadata": {},
   "outputs": [
    {
     "name": "stdout",
     "output_type": "stream",
     "text": [
      "Y\n",
      "I\n",
      "C\n",
      "U\n"
     ]
    }
   ],
   "source": [
    "_, parent_node = dijkstra(node_u, node_y)\n",
    "current = node_y\n",
    "while current:\n",
    "    print(current.value)\n",
    "    current = parent_node[current]"
   ]
  },
  {
   "cell_type": "markdown",
   "metadata": {
    "graffitiCellId": "id_6vmf0hp"
   },
   "source": [
    "<span class=\"graffiti-highlight graffiti-id_6vmf0hp-id_cjtybve\"><i></i><button>Hide Solution</button></span>"
   ]
  },
  {
   "cell_type": "code",
   "execution_count": 17,
   "metadata": {
    "graffitiCellId": "id_cjtybve"
   },
   "outputs": [],
   "source": [
    "def dijkstra(start_node, end_node):\n",
    "    distance_dict = {node: math.inf for node in graph.nodes} \n",
    "    shortest_path_to_node = {}\n",
    "\n",
    "    distance_dict[start_node] = 0\n",
    "    while distance_dict:\n",
    "        # Pop the shorest path \n",
    "        current_node, node_distance = sorted(distance_dict.items(), key=lambda x: x[1])[0]\n",
    "        shortest_path_to_node[current_node] = distance_dict.pop(current_node)\n",
    "    \n",
    "\n",
    "        for edge in current_node.edges:\n",
    "            if edge.node in distance_dict:\n",
    "                new_node_distance = node_distance + edge.distance\n",
    "                if distance_dict[edge.node] > new_node_distance:\n",
    "                    distance_dict[edge.node] = new_node_distance\n",
    "    \n",
    "    \n",
    "    return shortest_path_to_node[end_node]"
   ]
  },
  {
   "cell_type": "markdown",
   "metadata": {},
   "source": [
    "## My implimentation \n",
    "uses directed graph:"
   ]
  },
  {
   "cell_type": "code",
   "execution_count": 1,
   "metadata": {},
   "outputs": [],
   "source": [
    "class Node:\n",
    "    def __init__(self, name):\n",
    "        self.name = name\n",
    "    def getName(self):\n",
    "        return self.name\n",
    "    def __str__(self):\n",
    "        return self.name"
   ]
  },
  {
   "cell_type": "code",
   "execution_count": 8,
   "metadata": {},
   "outputs": [
    {
     "name": "stdout",
     "output_type": "stream",
     "text": [
      "A--->B=3km\n"
     ]
    }
   ],
   "source": [
    "class Edge:\n",
    "    \n",
    "    def __init__(self, src, dest, length):\n",
    "        \"\"\"Assume src and dest are node\"\"\"\n",
    "        self.src = src\n",
    "        self.dest = dest\n",
    "        self.length = length\n",
    "    \n",
    "    def getSource(self):\n",
    "        return self.src\n",
    "    \n",
    "    def getDest(self):\n",
    "        return self.dest\n",
    "    \n",
    "    def getLength(self):\n",
    "        return self.length\n",
    "    \n",
    "    def __str__(self):\n",
    "        return self.src.getName()+'--->' + self.dest.getName() + '=' + str(self.length) +'km'\n",
    "    \n",
    "\n",
    "node_a = Node('A')\n",
    "node_b = Node('B')\n",
    "example_edge= Edge(node_a, node_b, 3)\n",
    "print(example_edge)"
   ]
  },
  {
   "cell_type": "code",
   "execution_count": 9,
   "metadata": {},
   "outputs": [],
   "source": [
    "class Digraph(object):\n",
    "    \"\"\"directed Graph\"\"\"\n",
    "    def __init__(self):\n",
    "        self.edges = {}\n",
    "\n",
    "    def addNode(self,node):\n",
    "        if node in self.edges:\n",
    "            raise ValueError('Duplicate node')\n",
    "        else:\n",
    "            self.edges[node] = []\n",
    "\n",
    "    def addEdge(self,edge):\n",
    "        src = edge.getSource()\n",
    "        dest = edge.getDestination()\n",
    "        if not (src in self.edges and dest in self.edges):\n",
    "            raise ValueError('Node not in graph')\n",
    "        self.edges[src].append(dest)\n",
    "\n",
    "    def childrenOf(self,node):\n",
    "        \"\"\"returns all the child(\"neighbor for undirected graph\") of node \"\"\"\n",
    "        return self.edges[node]\n",
    "    \n",
    "    def hasNode(self,node):\n",
    "        return node in self.edges\n",
    "    \n",
    "    def getNode(self,name):\n",
    "        for key in self.edges:\n",
    "            if key.getName()==name:\n",
    "                return key\n",
    "        raise NameError(name)\n",
    "    \n",
    "    def __str__(self):\n",
    "        result = ''\n",
    "        for src in self.edges:\n",
    "            for dest in self.edges[src]:\n",
    "                result = result + src.getName() + '->' + dest.getName()+'\\n'\n",
    "        return result[:-1]#omit final new line"
   ]
  },
  {
   "cell_type": "code",
   "execution_count": null,
   "metadata": {},
   "outputs": [],
   "source": [
    "node_u = Node('U')\n",
    "node_d = Node('D')\n",
    "node_a = Node('A')\n",
    "node_c = Node('C')\n",
    "node_i = Node('I')\n",
    "node_t = Node('T')\n",
    "node_y = Node('Y')\n",
    "\n",
    "graph = Digraph()\n",
    "\n",
    "for node in [node_u, node_d, node_a, node_c, node_i, node_t, node_y]:\n",
    "    graph.addNode(self, node)\n",
    "    \n"
   ]
  }
 ],
 "metadata": {
  "graffiti": {
   "firstAuthorId": "dev",
   "id": "id_xw4if85",
   "language": "EN"
  },
  "kernelspec": {
   "display_name": "Python 3",
   "language": "python",
   "name": "python3"
  },
  "language_info": {
   "codemirror_mode": {
    "name": "ipython",
    "version": 3
   },
   "file_extension": ".py",
   "mimetype": "text/x-python",
   "name": "python",
   "nbconvert_exporter": "python",
   "pygments_lexer": "ipython3",
   "version": "3.7.1"
  }
 },
 "nbformat": 4,
 "nbformat_minor": 2
}
